{
 "cells": [
  {
   "cell_type": "markdown",
   "metadata": {},
   "source": [
    "## May report TIC\n"
   ]
  },
  {
   "cell_type": "markdown",
   "metadata": {},
   "source": [
    "# Import libraries\n"
   ]
  },
  {
   "cell_type": "code",
   "execution_count": 43,
   "metadata": {},
   "outputs": [],
   "source": [
    "import pandas as pd\n",
    "import matplotlib.pyplot as plt\n",
    "import numpy as np"
   ]
  },
  {
   "cell_type": "markdown",
   "metadata": {},
   "source": [
    "# Reading data"
   ]
  },
  {
   "cell_type": "code",
   "execution_count": 44,
   "metadata": {},
   "outputs": [],
   "source": [
    "df = pd.read_csv(\"data.csv\", sep=\";\")\n",
    "\n",
    "df = df.rename(columns={'Дата': 'Date', 'Гости': 'Guests', 'Количество': 'Amount', 'Город': 'City',\n",
    "                        'Цель_визита_1': 'Purpose_of_visit_1', 'Цель_визита_2': 'Purpose_of_visit_2',\n",
    "                        'Полиграфия': 'Polygraphy', 'Комментарии': 'Comments'})\n",
    "df['City'] = df['City'].fillna(\"Тверь\")\n",
    "df['City'] = df['City'].replace(' ', \"Тверь\")"
   ]
  },
  {
   "cell_type": "code",
   "execution_count": 45,
   "metadata": {},
   "outputs": [
    {
     "name": "stdout",
     "output_type": "stream",
     "text": [
      "<class 'pandas.core.frame.DataFrame'>\n",
      "RangeIndex: 537 entries, 0 to 536\n",
      "Data columns (total 8 columns):\n",
      " #   Column              Non-Null Count  Dtype  \n",
      "---  ------              --------------  -----  \n",
      " 0   Date                537 non-null    object \n",
      " 1   Guests              537 non-null    object \n",
      " 2   Amount              533 non-null    float64\n",
      " 3   City                537 non-null    object \n",
      " 4   Purpose_of_visit_1  501 non-null    object \n",
      " 5   Purpose_of_visit_2  94 non-null     object \n",
      " 6   Polygraphy          46 non-null     object \n",
      " 7   Comments            20 non-null     object \n",
      "dtypes: float64(1), object(7)\n",
      "memory usage: 33.7+ KB\n"
     ]
    }
   ],
   "source": [
    "df.info()"
   ]
  },
  {
   "cell_type": "code",
   "execution_count": 46,
   "metadata": {},
   "outputs": [
    {
     "data": {
      "text/html": [
       "<div>\n",
       "<style scoped>\n",
       "    .dataframe tbody tr th:only-of-type {\n",
       "        vertical-align: middle;\n",
       "    }\n",
       "\n",
       "    .dataframe tbody tr th {\n",
       "        vertical-align: top;\n",
       "    }\n",
       "\n",
       "    .dataframe thead th {\n",
       "        text-align: right;\n",
       "    }\n",
       "</style>\n",
       "<table border=\"1\" class=\"dataframe\">\n",
       "  <thead>\n",
       "    <tr style=\"text-align: right;\">\n",
       "      <th></th>\n",
       "      <th>Date</th>\n",
       "      <th>Guests</th>\n",
       "      <th>Amount</th>\n",
       "      <th>City</th>\n",
       "      <th>Purpose_of_visit_1</th>\n",
       "      <th>Purpose_of_visit_2</th>\n",
       "      <th>Polygraphy</th>\n",
       "      <th>Comments</th>\n",
       "    </tr>\n",
       "  </thead>\n",
       "  <tbody>\n",
       "    <tr>\n",
       "      <th>0</th>\n",
       "      <td>01.05.2024</td>\n",
       "      <td>Семья с детьми</td>\n",
       "      <td>3.0</td>\n",
       "      <td>Москва</td>\n",
       "      <td>Маршрут прогулки</td>\n",
       "      <td>Печатные карты</td>\n",
       "      <td>NaN</td>\n",
       "      <td>NaN</td>\n",
       "    </tr>\n",
       "    <tr>\n",
       "      <th>1</th>\n",
       "      <td>01.05.2024</td>\n",
       "      <td>Старше 35 лет</td>\n",
       "      <td>1.0</td>\n",
       "      <td>москва</td>\n",
       "      <td>Маршрут прогулки</td>\n",
       "      <td>Печатные карты</td>\n",
       "      <td>NaN</td>\n",
       "      <td>NaN</td>\n",
       "    </tr>\n",
       "    <tr>\n",
       "      <th>2</th>\n",
       "      <td>01.05.2024</td>\n",
       "      <td>Группа</td>\n",
       "      <td>2.0</td>\n",
       "      <td>Тверь</td>\n",
       "      <td>Сувениры</td>\n",
       "      <td>Просто посмотреть</td>\n",
       "      <td>NaN</td>\n",
       "      <td>NaN</td>\n",
       "    </tr>\n",
       "    <tr>\n",
       "      <th>3</th>\n",
       "      <td>01.05.2024</td>\n",
       "      <td>Группа</td>\n",
       "      <td>3.0</td>\n",
       "      <td>Тверь</td>\n",
       "      <td>Сувениры</td>\n",
       "      <td>NaN</td>\n",
       "      <td>NaN</td>\n",
       "      <td>NaN</td>\n",
       "    </tr>\n",
       "    <tr>\n",
       "      <th>4</th>\n",
       "      <td>01.05.2024</td>\n",
       "      <td>Семья с детьми</td>\n",
       "      <td>4.0</td>\n",
       "      <td>Тверь</td>\n",
       "      <td>Просто посмотреть</td>\n",
       "      <td>NaN</td>\n",
       "      <td>NaN</td>\n",
       "      <td>NaN</td>\n",
       "    </tr>\n",
       "  </tbody>\n",
       "</table>\n",
       "</div>"
      ],
      "text/plain": [
       "         Date          Guests  Amount    City Purpose_of_visit_1  \\\n",
       "0  01.05.2024  Семья с детьми     3.0  Москва   Маршрут прогулки   \n",
       "1  01.05.2024   Старше 35 лет     1.0  москва   Маршрут прогулки   \n",
       "2  01.05.2024          Группа     2.0   Тверь           Сувениры   \n",
       "3  01.05.2024          Группа     3.0   Тверь           Сувениры   \n",
       "4  01.05.2024  Семья с детьми     4.0   Тверь  Просто посмотреть   \n",
       "\n",
       "  Purpose_of_visit_2 Polygraphy Comments  \n",
       "0     Печатные карты        NaN      NaN  \n",
       "1     Печатные карты        NaN      NaN  \n",
       "2  Просто посмотреть        NaN      NaN  \n",
       "3                NaN        NaN      NaN  \n",
       "4                NaN        NaN      NaN  "
      ]
     },
     "execution_count": 46,
     "metadata": {},
     "output_type": "execute_result"
    }
   ],
   "source": [
    "df.head()"
   ]
  },
  {
   "cell_type": "code",
   "execution_count": 47,
   "metadata": {},
   "outputs": [
    {
     "data": {
      "text/html": [
       "<div>\n",
       "<style scoped>\n",
       "    .dataframe tbody tr th:only-of-type {\n",
       "        vertical-align: middle;\n",
       "    }\n",
       "\n",
       "    .dataframe tbody tr th {\n",
       "        vertical-align: top;\n",
       "    }\n",
       "\n",
       "    .dataframe thead th {\n",
       "        text-align: right;\n",
       "    }\n",
       "</style>\n",
       "<table border=\"1\" class=\"dataframe\">\n",
       "  <thead>\n",
       "    <tr style=\"text-align: right;\">\n",
       "      <th></th>\n",
       "      <th>Date</th>\n",
       "      <th>Guests</th>\n",
       "      <th>Amount</th>\n",
       "      <th>City</th>\n",
       "      <th>Purpose_of_visit_1</th>\n",
       "      <th>Purpose_of_visit_2</th>\n",
       "      <th>Polygraphy</th>\n",
       "      <th>Comments</th>\n",
       "    </tr>\n",
       "  </thead>\n",
       "  <tbody>\n",
       "    <tr>\n",
       "      <th>532</th>\n",
       "      <td>31.05.2024</td>\n",
       "      <td>Старше 35 лет</td>\n",
       "      <td>1.0</td>\n",
       "      <td>Тверь</td>\n",
       "      <td>Просто посмотреть</td>\n",
       "      <td>NaN</td>\n",
       "      <td>NaN</td>\n",
       "      <td>NaN</td>\n",
       "    </tr>\n",
       "    <tr>\n",
       "      <th>533</th>\n",
       "      <td>31.05.2024</td>\n",
       "      <td>Семья с детьми</td>\n",
       "      <td>2.0</td>\n",
       "      <td>Тверь</td>\n",
       "      <td>Печатные карты</td>\n",
       "      <td>NaN</td>\n",
       "      <td>NaN</td>\n",
       "      <td>NaN</td>\n",
       "    </tr>\n",
       "    <tr>\n",
       "      <th>534</th>\n",
       "      <td>31.05.2024</td>\n",
       "      <td>Семья с детьми</td>\n",
       "      <td>2.0</td>\n",
       "      <td>Тверь</td>\n",
       "      <td>Просто посмотреть</td>\n",
       "      <td>NaN</td>\n",
       "      <td>NaN</td>\n",
       "      <td>NaN</td>\n",
       "    </tr>\n",
       "    <tr>\n",
       "      <th>535</th>\n",
       "      <td>31.05.2024</td>\n",
       "      <td>Семья с детьми</td>\n",
       "      <td>2.0</td>\n",
       "      <td>Тверь</td>\n",
       "      <td>Просто посмотреть</td>\n",
       "      <td>NaN</td>\n",
       "      <td>NaN</td>\n",
       "      <td>NaN</td>\n",
       "    </tr>\n",
       "    <tr>\n",
       "      <th>536</th>\n",
       "      <td>31.05.2024</td>\n",
       "      <td>Старше 35 лет</td>\n",
       "      <td>1.0</td>\n",
       "      <td>Тверь</td>\n",
       "      <td>Экскурсии</td>\n",
       "      <td>NaN</td>\n",
       "      <td>NaN</td>\n",
       "      <td>автобуснык экскурсии</td>\n",
       "    </tr>\n",
       "  </tbody>\n",
       "</table>\n",
       "</div>"
      ],
      "text/plain": [
       "           Date          Guests  Amount   City Purpose_of_visit_1  \\\n",
       "532  31.05.2024   Старше 35 лет     1.0  Тверь  Просто посмотреть   \n",
       "533  31.05.2024  Семья с детьми     2.0  Тверь     Печатные карты   \n",
       "534  31.05.2024  Семья с детьми     2.0  Тверь  Просто посмотреть   \n",
       "535  31.05.2024  Семья с детьми     2.0  Тверь  Просто посмотреть   \n",
       "536  31.05.2024   Старше 35 лет     1.0  Тверь          Экскурсии   \n",
       "\n",
       "    Purpose_of_visit_2 Polygraphy              Comments  \n",
       "532                NaN        NaN                   NaN  \n",
       "533                NaN        NaN                   NaN  \n",
       "534                NaN        NaN                   NaN  \n",
       "535                NaN        NaN                   NaN  \n",
       "536                NaN        NaN  автобуснык экскурсии  "
      ]
     },
     "execution_count": 47,
     "metadata": {},
     "output_type": "execute_result"
    }
   ],
   "source": [
    "df.tail()"
   ]
  },
  {
   "cell_type": "markdown",
   "metadata": {},
   "source": [
    "# Data cleaning"
   ]
  },
  {
   "cell_type": "markdown",
   "metadata": {},
   "source": [
    "Adding column for weekday"
   ]
  },
  {
   "cell_type": "code",
   "execution_count": 48,
   "metadata": {},
   "outputs": [
    {
     "data": {
      "text/html": [
       "<div>\n",
       "<style scoped>\n",
       "    .dataframe tbody tr th:only-of-type {\n",
       "        vertical-align: middle;\n",
       "    }\n",
       "\n",
       "    .dataframe tbody tr th {\n",
       "        vertical-align: top;\n",
       "    }\n",
       "\n",
       "    .dataframe thead th {\n",
       "        text-align: right;\n",
       "    }\n",
       "</style>\n",
       "<table border=\"1\" class=\"dataframe\">\n",
       "  <thead>\n",
       "    <tr style=\"text-align: right;\">\n",
       "      <th></th>\n",
       "      <th>Date</th>\n",
       "      <th>Weekday</th>\n",
       "      <th>Guests</th>\n",
       "      <th>Amount</th>\n",
       "      <th>City</th>\n",
       "      <th>Purpose_of_visit_1</th>\n",
       "      <th>Purpose_of_visit_2</th>\n",
       "      <th>Polygraphy</th>\n",
       "      <th>Comments</th>\n",
       "    </tr>\n",
       "  </thead>\n",
       "  <tbody>\n",
       "    <tr>\n",
       "      <th>0</th>\n",
       "      <td>2024-05-01</td>\n",
       "      <td>Wednesday</td>\n",
       "      <td>Семья с детьми</td>\n",
       "      <td>3.0</td>\n",
       "      <td>Москва</td>\n",
       "      <td>Маршрут прогулки</td>\n",
       "      <td>Печатные карты</td>\n",
       "      <td>NaN</td>\n",
       "      <td>NaN</td>\n",
       "    </tr>\n",
       "    <tr>\n",
       "      <th>1</th>\n",
       "      <td>2024-05-01</td>\n",
       "      <td>Wednesday</td>\n",
       "      <td>Старше 35 лет</td>\n",
       "      <td>1.0</td>\n",
       "      <td>москва</td>\n",
       "      <td>Маршрут прогулки</td>\n",
       "      <td>Печатные карты</td>\n",
       "      <td>NaN</td>\n",
       "      <td>NaN</td>\n",
       "    </tr>\n",
       "    <tr>\n",
       "      <th>2</th>\n",
       "      <td>2024-05-01</td>\n",
       "      <td>Wednesday</td>\n",
       "      <td>Группа</td>\n",
       "      <td>2.0</td>\n",
       "      <td>Тверь</td>\n",
       "      <td>Сувениры</td>\n",
       "      <td>Просто посмотреть</td>\n",
       "      <td>NaN</td>\n",
       "      <td>NaN</td>\n",
       "    </tr>\n",
       "    <tr>\n",
       "      <th>3</th>\n",
       "      <td>2024-05-01</td>\n",
       "      <td>Wednesday</td>\n",
       "      <td>Группа</td>\n",
       "      <td>3.0</td>\n",
       "      <td>Тверь</td>\n",
       "      <td>Сувениры</td>\n",
       "      <td>NaN</td>\n",
       "      <td>NaN</td>\n",
       "      <td>NaN</td>\n",
       "    </tr>\n",
       "    <tr>\n",
       "      <th>4</th>\n",
       "      <td>2024-05-01</td>\n",
       "      <td>Wednesday</td>\n",
       "      <td>Семья с детьми</td>\n",
       "      <td>4.0</td>\n",
       "      <td>Тверь</td>\n",
       "      <td>Просто посмотреть</td>\n",
       "      <td>NaN</td>\n",
       "      <td>NaN</td>\n",
       "      <td>NaN</td>\n",
       "    </tr>\n",
       "  </tbody>\n",
       "</table>\n",
       "</div>"
      ],
      "text/plain": [
       "         Date    Weekday          Guests  Amount    City Purpose_of_visit_1  \\\n",
       "0  2024-05-01  Wednesday  Семья с детьми     3.0  Москва   Маршрут прогулки   \n",
       "1  2024-05-01  Wednesday   Старше 35 лет     1.0  москва   Маршрут прогулки   \n",
       "2  2024-05-01  Wednesday          Группа     2.0   Тверь           Сувениры   \n",
       "3  2024-05-01  Wednesday          Группа     3.0   Тверь           Сувениры   \n",
       "4  2024-05-01  Wednesday  Семья с детьми     4.0   Тверь  Просто посмотреть   \n",
       "\n",
       "  Purpose_of_visit_2 Polygraphy Comments  \n",
       "0     Печатные карты        NaN      NaN  \n",
       "1     Печатные карты        NaN      NaN  \n",
       "2  Просто посмотреть        NaN      NaN  \n",
       "3                NaN        NaN      NaN  \n",
       "4                NaN        NaN      NaN  "
      ]
     },
     "execution_count": 48,
     "metadata": {},
     "output_type": "execute_result"
    }
   ],
   "source": [
    "# \"\"\" Now I want to add column for weekdays. In process, I realised that I need to change the date format \n",
    "#     for my own comfort. I managed those things like this \"\"\"\n",
    "df.Date = df.Date.str.split(\".\").str[::-1].str.join(\"-\")\n",
    "\n",
    "weekday = pd.to_datetime(df.Date).dt.day_name()\n",
    "df.insert(1, 'Weekday', weekday)\n",
    "df.head()"
   ]
  },
  {
   "cell_type": "markdown",
   "metadata": {},
   "source": [
    "Amount of empty dates"
   ]
  },
  {
   "cell_type": "code",
   "execution_count": 49,
   "metadata": {},
   "outputs": [
    {
     "data": {
      "text/html": [
       "<div>\n",
       "<style scoped>\n",
       "    .dataframe tbody tr th:only-of-type {\n",
       "        vertical-align: middle;\n",
       "    }\n",
       "\n",
       "    .dataframe tbody tr th {\n",
       "        vertical-align: top;\n",
       "    }\n",
       "\n",
       "    .dataframe thead th {\n",
       "        text-align: right;\n",
       "    }\n",
       "</style>\n",
       "<table border=\"1\" class=\"dataframe\">\n",
       "  <thead>\n",
       "    <tr style=\"text-align: right;\">\n",
       "      <th></th>\n",
       "      <th>Date</th>\n",
       "      <th>Weekday</th>\n",
       "      <th>Guests</th>\n",
       "      <th>Amount</th>\n",
       "      <th>City</th>\n",
       "      <th>Purpose_of_visit_1</th>\n",
       "      <th>Purpose_of_visit_2</th>\n",
       "      <th>Polygraphy</th>\n",
       "      <th>Comments</th>\n",
       "    </tr>\n",
       "  </thead>\n",
       "  <tbody>\n",
       "    <tr>\n",
       "      <th>1</th>\n",
       "      <td>2024-05-01</td>\n",
       "      <td>Wednesday</td>\n",
       "      <td>Семья с детьми</td>\n",
       "      <td>3.0</td>\n",
       "      <td>Москва</td>\n",
       "      <td>Маршрут прогулки</td>\n",
       "      <td>Печатные карты</td>\n",
       "      <td>NaN</td>\n",
       "      <td>NaN</td>\n",
       "    </tr>\n",
       "    <tr>\n",
       "      <th>2</th>\n",
       "      <td>2024-05-01</td>\n",
       "      <td>Wednesday</td>\n",
       "      <td>Старше 35 лет</td>\n",
       "      <td>1.0</td>\n",
       "      <td>москва</td>\n",
       "      <td>Маршрут прогулки</td>\n",
       "      <td>Печатные карты</td>\n",
       "      <td>NaN</td>\n",
       "      <td>NaN</td>\n",
       "    </tr>\n",
       "    <tr>\n",
       "      <th>3</th>\n",
       "      <td>2024-05-01</td>\n",
       "      <td>Wednesday</td>\n",
       "      <td>Группа</td>\n",
       "      <td>2.0</td>\n",
       "      <td>Тверь</td>\n",
       "      <td>Сувениры</td>\n",
       "      <td>Просто посмотреть</td>\n",
       "      <td>NaN</td>\n",
       "      <td>NaN</td>\n",
       "    </tr>\n",
       "    <tr>\n",
       "      <th>4</th>\n",
       "      <td>2024-05-01</td>\n",
       "      <td>Wednesday</td>\n",
       "      <td>Группа</td>\n",
       "      <td>3.0</td>\n",
       "      <td>Тверь</td>\n",
       "      <td>Сувениры</td>\n",
       "      <td>NaN</td>\n",
       "      <td>NaN</td>\n",
       "      <td>NaN</td>\n",
       "    </tr>\n",
       "    <tr>\n",
       "      <th>5</th>\n",
       "      <td>2024-05-01</td>\n",
       "      <td>Wednesday</td>\n",
       "      <td>Семья с детьми</td>\n",
       "      <td>4.0</td>\n",
       "      <td>Тверь</td>\n",
       "      <td>Просто посмотреть</td>\n",
       "      <td>NaN</td>\n",
       "      <td>NaN</td>\n",
       "      <td>NaN</td>\n",
       "    </tr>\n",
       "  </tbody>\n",
       "</table>\n",
       "</div>"
      ],
      "text/plain": [
       "         Date    Weekday          Guests  Amount    City Purpose_of_visit_1  \\\n",
       "1  2024-05-01  Wednesday  Семья с детьми     3.0  Москва   Маршрут прогулки   \n",
       "2  2024-05-01  Wednesday   Старше 35 лет     1.0  москва   Маршрут прогулки   \n",
       "3  2024-05-01  Wednesday          Группа     2.0   Тверь           Сувениры   \n",
       "4  2024-05-01  Wednesday          Группа     3.0   Тверь           Сувениры   \n",
       "5  2024-05-01  Wednesday  Семья с детьми     4.0   Тверь  Просто посмотреть   \n",
       "\n",
       "  Purpose_of_visit_2 Polygraphy Comments  \n",
       "1     Печатные карты        NaN      NaN  \n",
       "2     Печатные карты        NaN      NaN  \n",
       "3  Просто посмотреть        NaN      NaN  \n",
       "4                NaN        NaN      NaN  \n",
       "5                NaN        NaN      NaN  "
      ]
     },
     "execution_count": 49,
     "metadata": {},
     "output_type": "execute_result"
    }
   ],
   "source": [
    "df['Date'].unique()\n",
    "\n",
    "# 05-12 is missing. Let's add empty row\n",
    "df.index[df['Date'] == \"2024-05-13\"][0]  # 251\n",
    "df.iloc[251]  # Monday, so 05-12 is Sunday\n",
    "\n",
    "df.loc[251] = [\"2024-05-12\", pd.to_datetime(\"2024-05-12\").day_name(), np.nan, 0.0, np.nan, np.nan, np.nan, np.nan, np.nan]\n",
    "df.index = df.index + 1\n",
    "df = df.sort_index()\n",
    "\n",
    "df.head()\n"
   ]
  },
  {
   "cell_type": "code",
   "execution_count": 50,
   "metadata": {},
   "outputs": [
    {
     "data": {
      "text/html": [
       "<div>\n",
       "<style scoped>\n",
       "    .dataframe tbody tr th:only-of-type {\n",
       "        vertical-align: middle;\n",
       "    }\n",
       "\n",
       "    .dataframe tbody tr th {\n",
       "        vertical-align: top;\n",
       "    }\n",
       "\n",
       "    .dataframe thead th {\n",
       "        text-align: right;\n",
       "    }\n",
       "</style>\n",
       "<table border=\"1\" class=\"dataframe\">\n",
       "  <thead>\n",
       "    <tr style=\"text-align: right;\">\n",
       "      <th></th>\n",
       "      <th>Date</th>\n",
       "      <th>Weekday</th>\n",
       "      <th>Guests</th>\n",
       "      <th>Amount</th>\n",
       "      <th>City</th>\n",
       "      <th>Purpose_of_visit_1</th>\n",
       "      <th>Purpose_of_visit_2</th>\n",
       "      <th>Polygraphy</th>\n",
       "      <th>Comments</th>\n",
       "    </tr>\n",
       "  </thead>\n",
       "  <tbody>\n",
       "    <tr>\n",
       "      <th>249</th>\n",
       "      <td>2024-05-11</td>\n",
       "      <td>Saturday</td>\n",
       "      <td>Группа</td>\n",
       "      <td>2.0</td>\n",
       "      <td>Тверь</td>\n",
       "      <td>NaN</td>\n",
       "      <td>NaN</td>\n",
       "      <td>NaN</td>\n",
       "      <td>NaN</td>\n",
       "    </tr>\n",
       "    <tr>\n",
       "      <th>250</th>\n",
       "      <td>2024-05-11</td>\n",
       "      <td>Saturday</td>\n",
       "      <td>Семья с детьми</td>\n",
       "      <td>3.0</td>\n",
       "      <td>Тверь</td>\n",
       "      <td>NaN</td>\n",
       "      <td>NaN</td>\n",
       "      <td>NaN</td>\n",
       "      <td>NaN</td>\n",
       "    </tr>\n",
       "    <tr>\n",
       "      <th>251</th>\n",
       "      <td>2024-05-11</td>\n",
       "      <td>Saturday</td>\n",
       "      <td>Группа</td>\n",
       "      <td>2.0</td>\n",
       "      <td>Тверь</td>\n",
       "      <td>NaN</td>\n",
       "      <td>NaN</td>\n",
       "      <td>NaN</td>\n",
       "      <td>NaN</td>\n",
       "    </tr>\n",
       "    <tr>\n",
       "      <th>252</th>\n",
       "      <td>2024-05-12</td>\n",
       "      <td>Sunday</td>\n",
       "      <td>NaN</td>\n",
       "      <td>0.0</td>\n",
       "      <td>NaN</td>\n",
       "      <td>NaN</td>\n",
       "      <td>NaN</td>\n",
       "      <td>NaN</td>\n",
       "      <td>NaN</td>\n",
       "    </tr>\n",
       "    <tr>\n",
       "      <th>253</th>\n",
       "      <td>2024-05-13</td>\n",
       "      <td>Monday</td>\n",
       "      <td>Группа</td>\n",
       "      <td>2.0</td>\n",
       "      <td>Тверь</td>\n",
       "      <td>Просто посмотреть</td>\n",
       "      <td>NaN</td>\n",
       "      <td>Нет</td>\n",
       "      <td>NaN</td>\n",
       "    </tr>\n",
       "  </tbody>\n",
       "</table>\n",
       "</div>"
      ],
      "text/plain": [
       "           Date   Weekday          Guests  Amount   City Purpose_of_visit_1  \\\n",
       "249  2024-05-11  Saturday          Группа     2.0  Тверь                NaN   \n",
       "250  2024-05-11  Saturday  Семья с детьми     3.0  Тверь                NaN   \n",
       "251  2024-05-11  Saturday          Группа     2.0  Тверь                NaN   \n",
       "252  2024-05-12    Sunday             NaN     0.0    NaN                NaN   \n",
       "253  2024-05-13    Monday          Группа     2.0  Тверь  Просто посмотреть   \n",
       "\n",
       "    Purpose_of_visit_2 Polygraphy Comments  \n",
       "249                NaN        NaN      NaN  \n",
       "250                NaN        NaN      NaN  \n",
       "251                NaN        NaN      NaN  \n",
       "252                NaN        NaN      NaN  \n",
       "253                NaN        Нет      NaN  "
      ]
     },
     "execution_count": 50,
     "metadata": {},
     "output_type": "execute_result"
    }
   ],
   "source": [
    "df[248:253]"
   ]
  },
  {
   "cell_type": "code",
   "execution_count": 51,
   "metadata": {},
   "outputs": [
    {
     "data": {
      "text/plain": [
       "array(['2024-05-01', '2024-05-02', '2024-05-03', '2024-05-04',\n",
       "       '2024-05-05', '2024-05-06', '2024-05-07', '2024-05-08',\n",
       "       '2024-05-09', '2024-05-10', '2024-05-11', '2024-05-12',\n",
       "       '2024-05-13', '2024-05-14', '2024-05-15', '2024-05-16',\n",
       "       '2024-05-17', '2024-05-18', '2024-05-19', '2024-05-20',\n",
       "       '2024-05-21', '2024-05-22', '2024-05-23', '2024-05-24',\n",
       "       '2024-05-25', '2024-05-26', '2024-05-27', '2024-05-28',\n",
       "       '2024-05-29', '2024-05-30', '2024-05-31'], dtype=object)"
      ]
     },
     "execution_count": 51,
     "metadata": {},
     "output_type": "execute_result"
    }
   ],
   "source": [
    "df['Date'].unique()"
   ]
  },
  {
   "cell_type": "markdown",
   "metadata": {},
   "source": [
    "Let's look at our cities and fix them"
   ]
  },
  {
   "cell_type": "code",
   "execution_count": 52,
   "metadata": {},
   "outputs": [
    {
     "data": {
      "text/plain": [
       "array(['Москва', 'Тверь', 'Клин', 'Санкт-Петербург', 'Смоленск',\n",
       "       'Петербург', 'Зелеоград', 'Моск.Обл.', 'Мо', 'Рязань',\n",
       "       'Московская Область', 'Московская Обл', 'Москоская Область',\n",
       "       'Вышний Волочек', 'Тула', 'Калининград', 'Питер', 'Белгород',\n",
       "       'Оренбург', 'Волгоград', 'Мурманс', 'Казань', 'Брянск',\n",
       "       'Подмосковье'], dtype=object)"
      ]
     },
     "execution_count": 52,
     "metadata": {},
     "output_type": "execute_result"
    }
   ],
   "source": [
    "df.City = df.City.str.lstrip().str.rstrip().str.title()\n",
    "df.City = df.City.fillna('Тверь')\n",
    "df.City.unique()"
   ]
  },
  {
   "cell_type": "code",
   "execution_count": 53,
   "metadata": {},
   "outputs": [
    {
     "data": {
      "text/plain": [
       "array(['Москва', 'Тверь', 'Клин', 'Санкт-Петербург', 'Смоленск',\n",
       "       'Зеленоград', 'Московская Область', 'Рязань', 'Вышний Волочек',\n",
       "       'Тула', 'Калининград', 'Белгород', 'Оренбург', 'Волгоград',\n",
       "       'Мурманск', 'Казань', 'Брянск'], dtype=object)"
      ]
     },
     "execution_count": 53,
     "metadata": {},
     "output_type": "execute_result"
    }
   ],
   "source": [
    "df = df.replace([\"Питер\", \"Петербург\"], \"Санкт-Петербург\")\n",
    "df = df.replace([\"Москвы\", \"Моква\"], \"Москва\")\n",
    "df = df.replace([\"Моск.Обл.\", \"Московская Обл\", \"Москоская Область\", \"Мо\", \"Подмосковье\"], \"Московская Область\")\n",
    "df = df.replace(\"Зелеоград\", \"Зеленоград\")\n",
    "df = df.replace(\"Мурманс\", \"Мурманск\")\n",
    "df.City.unique()"
   ]
  },
  {
   "cell_type": "markdown",
   "metadata": {},
   "source": [
    "Change 'Amount' column type to int. Fill empty cells"
   ]
  },
  {
   "cell_type": "code",
   "execution_count": 54,
   "metadata": {},
   "outputs": [
    {
     "data": {
      "text/html": [
       "<div>\n",
       "<style scoped>\n",
       "    .dataframe tbody tr th:only-of-type {\n",
       "        vertical-align: middle;\n",
       "    }\n",
       "\n",
       "    .dataframe tbody tr th {\n",
       "        vertical-align: top;\n",
       "    }\n",
       "\n",
       "    .dataframe thead th {\n",
       "        text-align: right;\n",
       "    }\n",
       "</style>\n",
       "<table border=\"1\" class=\"dataframe\">\n",
       "  <thead>\n",
       "    <tr style=\"text-align: right;\">\n",
       "      <th></th>\n",
       "      <th>Date</th>\n",
       "      <th>Weekday</th>\n",
       "      <th>Guests</th>\n",
       "      <th>Amount</th>\n",
       "      <th>City</th>\n",
       "      <th>Purpose_of_visit_1</th>\n",
       "      <th>Purpose_of_visit_2</th>\n",
       "      <th>Polygraphy</th>\n",
       "      <th>Comments</th>\n",
       "    </tr>\n",
       "  </thead>\n",
       "  <tbody>\n",
       "    <tr>\n",
       "      <th>1</th>\n",
       "      <td>2024-05-01</td>\n",
       "      <td>Wednesday</td>\n",
       "      <td>Семья с детьми</td>\n",
       "      <td>3</td>\n",
       "      <td>Москва</td>\n",
       "      <td>Маршрут прогулки</td>\n",
       "      <td>Печатные карты</td>\n",
       "      <td>NaN</td>\n",
       "      <td>NaN</td>\n",
       "    </tr>\n",
       "    <tr>\n",
       "      <th>2</th>\n",
       "      <td>2024-05-01</td>\n",
       "      <td>Wednesday</td>\n",
       "      <td>Старше 35 лет</td>\n",
       "      <td>1</td>\n",
       "      <td>Москва</td>\n",
       "      <td>Маршрут прогулки</td>\n",
       "      <td>Печатные карты</td>\n",
       "      <td>NaN</td>\n",
       "      <td>NaN</td>\n",
       "    </tr>\n",
       "    <tr>\n",
       "      <th>3</th>\n",
       "      <td>2024-05-01</td>\n",
       "      <td>Wednesday</td>\n",
       "      <td>Группа</td>\n",
       "      <td>2</td>\n",
       "      <td>Тверь</td>\n",
       "      <td>Сувениры</td>\n",
       "      <td>Просто посмотреть</td>\n",
       "      <td>NaN</td>\n",
       "      <td>NaN</td>\n",
       "    </tr>\n",
       "    <tr>\n",
       "      <th>4</th>\n",
       "      <td>2024-05-01</td>\n",
       "      <td>Wednesday</td>\n",
       "      <td>Группа</td>\n",
       "      <td>3</td>\n",
       "      <td>Тверь</td>\n",
       "      <td>Сувениры</td>\n",
       "      <td>NaN</td>\n",
       "      <td>NaN</td>\n",
       "      <td>NaN</td>\n",
       "    </tr>\n",
       "    <tr>\n",
       "      <th>5</th>\n",
       "      <td>2024-05-01</td>\n",
       "      <td>Wednesday</td>\n",
       "      <td>Семья с детьми</td>\n",
       "      <td>4</td>\n",
       "      <td>Тверь</td>\n",
       "      <td>Просто посмотреть</td>\n",
       "      <td>NaN</td>\n",
       "      <td>NaN</td>\n",
       "      <td>NaN</td>\n",
       "    </tr>\n",
       "  </tbody>\n",
       "</table>\n",
       "</div>"
      ],
      "text/plain": [
       "         Date    Weekday          Guests  Amount    City Purpose_of_visit_1  \\\n",
       "1  2024-05-01  Wednesday  Семья с детьми       3  Москва   Маршрут прогулки   \n",
       "2  2024-05-01  Wednesday   Старше 35 лет       1  Москва   Маршрут прогулки   \n",
       "3  2024-05-01  Wednesday          Группа       2   Тверь           Сувениры   \n",
       "4  2024-05-01  Wednesday          Группа       3   Тверь           Сувениры   \n",
       "5  2024-05-01  Wednesday  Семья с детьми       4   Тверь  Просто посмотреть   \n",
       "\n",
       "  Purpose_of_visit_2 Polygraphy Comments  \n",
       "1     Печатные карты        NaN      NaN  \n",
       "2     Печатные карты        NaN      NaN  \n",
       "3  Просто посмотреть        NaN      NaN  \n",
       "4                NaN        NaN      NaN  \n",
       "5                NaN        NaN      NaN  "
      ]
     },
     "execution_count": 54,
     "metadata": {},
     "output_type": "execute_result"
    }
   ],
   "source": [
    "# Will work with empty cells, but I am going to fix them\n",
    "# df['Amount'] = df['Amount'].fillna(0.0).astype(int)\n",
    "\n",
    "df.index[df['Amount'].isna()]  # Index([348, 416, 481, 491], dtype='int64')\n",
    "\n",
    "df.loc[348, 'Amount'] = 1\n",
    "df.loc[416, 'Amount'] = 1\n",
    "df.loc[481, 'Amount'] = 3\n",
    "df.loc[491, 'Amount'] = 3\n",
    "\n",
    "df['Amount'] = df['Amount'].astype(\"int8\")\n",
    "df.head()"
   ]
  },
  {
   "cell_type": "markdown",
   "metadata": {},
   "source": [
    "# Adding plot functions"
   ]
  },
  {
   "cell_type": "markdown",
   "metadata": {},
   "source": [
    "Groupby + Amount"
   ]
  },
  {
   "cell_type": "code",
   "execution_count": 55,
   "metadata": {},
   "outputs": [
    {
     "data": {
      "image/png": "[encoded data removed]",
      "text/plain": [
       "<Figure size 1600x800 with 1 Axes>"
      ]
     },
     "metadata": {},
     "output_type": "display_data"
    }
   ],
   "source": [
    "def plot_groupby_amount(on: str, top: int, title: str =None, xlabel: str =None, ylabel: str =None):\n",
    "    \"\"\"\n",
    "    Takes a column name to groupby on ('Sex', 'Date' etc) and creates bar plot with top 'Amount' values.\n",
    "\n",
    "    Args:\n",
    "        on (str): Column name in DataFrame to groupby on, e.g. 'Date', 'Purpose', 'Order'.\n",
    "        top (int): Top N+1 values to be shown in the plot (N actual bars and 1 'Other' bar), e.g. 3, 5, 12.\n",
    "    \"\"\"\n",
    "\n",
    "    # Check if given column name is present in DataFrame\n",
    "    if on not in df.columns:\n",
    "        print(f\"ParameterError (on), '{on}' not in df.columns!\")\n",
    "        return\n",
    "    \n",
    "    # Group DataFrame on given column and count all visitors\n",
    "    df_groupby = df.groupby(on)['Amount'].sum()\n",
    "    \n",
    "    # DataFrame for plotting\n",
    "    df_plot = df_groupby.copy()\n",
    "    df_plot = df_plot.sort_values(ascending=False)\n",
    "    # Calculate 'Other' bar\n",
    "    df_plot['Другие'] = df_plot.sum() - df_plot[:top].sum()\n",
    "    df_plot = df_plot.sort_values(ascending=False)[:top+1]\n",
    "\n",
    "    # Plotting \n",
    "    figure = plt.figure(figsize=(16, 8))  \n",
    "    plt.title(title)\n",
    "    df_plot.plot(kind='bar')\n",
    "    plt.xticks(rotation=15)\n",
    "    plt.xlabel(xlabel)\n",
    "\n",
    "    top_value = round(max(df_plot) + 10, -2)\n",
    "    step = -10 if top_value <= 100 else -25*(len(str(top_value))-1)\n",
    "    plt.yticks(range(top_value, -1, step))\n",
    "    plt.ylabel(ylabel)\n",
    "\n",
    "    y_axis = df_plot.axes[0].to_list()\n",
    "    for i in range(len(y_axis)):\n",
    "        plt.annotate(df_plot.iloc[i], (i, df_plot.iloc[i]))\n",
    "\n",
    "    plt.show()\n",
    "    plt.close()\n",
    "\n",
    "\n",
    "plot_groupby_amount(on='City', top=3, title=\"Количество гостей из разных городов\")"
   ]
  },
  {
   "cell_type": "code",
   "execution_count": 56,
   "metadata": {},
   "outputs": [
    {
     "data": {
      "text/plain": [
       "1960"
      ]
     },
     "execution_count": 56,
     "metadata": {},
     "output_type": "execute_result"
    }
   ],
   "source": [
    "round(1945 + 10, -1)"
   ]
  },
  {
   "cell_type": "markdown",
   "metadata": {},
   "source": [
    "# Data analysis"
   ]
  },
  {
   "cell_type": "markdown",
   "metadata": {},
   "source": [
    "Count all guests"
   ]
  },
  {
   "cell_type": "code",
   "execution_count": 57,
   "metadata": {},
   "outputs": [
    {
     "data": {
      "text/plain": [
       "1188"
      ]
     },
     "execution_count": 57,
     "metadata": {},
     "output_type": "execute_result"
    }
   ],
   "source": [
    "totalGuests = df['Amount'].sum()\n",
    "totalGuests"
   ]
  },
  {
   "cell_type": "markdown",
   "metadata": {},
   "source": [
    "How many visitors from each city"
   ]
  },
  {
   "cell_type": "code",
   "execution_count": 58,
   "metadata": {},
   "outputs": [
    {
     "data": {
      "image/png": "[encoded data removed]",
      "text/plain": [
       "<Figure size 1600x800 with 1 Axes>"
      ]
     },
     "metadata": {},
     "output_type": "display_data"
    }
   ],
   "source": [
    "totalCities = df.groupby('City')['Amount'].sum()\n",
    "totalCities\n",
    "\n",
    "plotCities = totalCities.copy()\n",
    "plotCities = plotCities.sort_values(ascending=False)\n",
    "plotCities['Другие'] = plotCities.sum() - sum(plotCities[:3])\n",
    "plotCities = plotCities.sort_values(ascending=False)[:4]\n",
    "\n",
    "plt.figure(figsize=(16, 8))  \n",
    "plt.title('Количество гостей за май в зависимости от города')\n",
    "plotCities.plot(kind='bar')\n",
    "plt.xticks(rotation=0)\n",
    "plt.xlabel(\"Город\")\n",
    "plt.yticks(range(max(plotCities), -1, -50))\n",
    "cities = plotCities.axes[0].to_list()\n",
    "for i in range(len(cities)):\n",
    "    plt.annotate(plotCities.iloc[i], (i, plotCities.iloc[i]))\n",
    "plt.show()\n",
    "plt.close()"
   ]
  },
  {
   "cell_type": "markdown",
   "metadata": {},
   "source": [
    "Let's plot data about our daily visitors"
   ]
  },
  {
   "cell_type": "code",
   "execution_count": 59,
   "metadata": {},
   "outputs": [
    {
     "data": {
      "image/png": "[encoded data removed]",
      "text/plain": [
       "<Figure size 1400x700 with 1 Axes>"
      ]
     },
     "metadata": {},
     "output_type": "display_data"
    }
   ],
   "source": [
    "group_by_date = df.groupby('Date')['Amount'].sum()\n",
    "group_by_date\n",
    "\n",
    "plot_visitors = group_by_date\n",
    "\n",
    "dates = []\n",
    "for x in range(1, 31 + 1):\n",
    "    if x < 10:\n",
    "        dates.append(f'0{x}.05')\n",
    "    else:\n",
    "        dates.append(f'{x}.05')\n",
    "\n",
    "plt.figure(figsize=(14, 7))\n",
    "plt.plot(dates, plot_visitors)\n",
    "plt.title('График посещаемости')\n",
    "plt.xlabel('Дата')\n",
    "plt.ylabel('Количество гостей')\n",
    "plt.xticks(rotation=25)\n",
    "plt.yticks(range(max(plot_visitors) + 3, -1, -15))\n",
    "for i in range(len(dates)):\n",
    "    plt.annotate(plot_visitors.iloc[i], (i, plot_visitors.iloc[i]))\n",
    "plt.show()"
   ]
  },
  {
   "cell_type": "markdown",
   "metadata": {},
   "source": [
    "## Importing data for prediction"
   ]
  },
  {
   "cell_type": "code",
   "execution_count": 60,
   "metadata": {},
   "outputs": [],
   "source": [
    "day_visits = df.groupby('Date').sum()[['Amount']]\n",
    "may_predict = df.groupby('Date').first()[['Weekday']]\n",
    "may_predict['Amount'] = day_visits"
   ]
  },
  {
   "cell_type": "code",
   "execution_count": 61,
   "metadata": {},
   "outputs": [
    {
     "data": {
      "text/html": [
       "<div>\n",
       "<style scoped>\n",
       "    .dataframe tbody tr th:only-of-type {\n",
       "        vertical-align: middle;\n",
       "    }\n",
       "\n",
       "    .dataframe tbody tr th {\n",
       "        vertical-align: top;\n",
       "    }\n",
       "\n",
       "    .dataframe thead th {\n",
       "        text-align: right;\n",
       "    }\n",
       "</style>\n",
       "<table border=\"1\" class=\"dataframe\">\n",
       "  <thead>\n",
       "    <tr style=\"text-align: right;\">\n",
       "      <th></th>\n",
       "      <th>Weekday</th>\n",
       "      <th>Amount</th>\n",
       "    </tr>\n",
       "    <tr>\n",
       "      <th>Date</th>\n",
       "      <th></th>\n",
       "      <th></th>\n",
       "    </tr>\n",
       "  </thead>\n",
       "  <tbody>\n",
       "    <tr>\n",
       "      <th>2024-05-01</th>\n",
       "      <td>Wednesday</td>\n",
       "      <td>93</td>\n",
       "    </tr>\n",
       "    <tr>\n",
       "      <th>2024-05-02</th>\n",
       "      <td>Thursday</td>\n",
       "      <td>35</td>\n",
       "    </tr>\n",
       "    <tr>\n",
       "      <th>2024-05-03</th>\n",
       "      <td>Friday</td>\n",
       "      <td>11</td>\n",
       "    </tr>\n",
       "    <tr>\n",
       "      <th>2024-05-04</th>\n",
       "      <td>Saturday</td>\n",
       "      <td>59</td>\n",
       "    </tr>\n",
       "    <tr>\n",
       "      <th>2024-05-05</th>\n",
       "      <td>Sunday</td>\n",
       "      <td>44</td>\n",
       "    </tr>\n",
       "  </tbody>\n",
       "</table>\n",
       "</div>"
      ],
      "text/plain": [
       "              Weekday  Amount\n",
       "Date                         \n",
       "2024-05-01  Wednesday      93\n",
       "2024-05-02   Thursday      35\n",
       "2024-05-03     Friday      11\n",
       "2024-05-04   Saturday      59\n",
       "2024-05-05     Sunday      44"
      ]
     },
     "execution_count": 61,
     "metadata": {},
     "output_type": "execute_result"
    }
   ],
   "source": [
    "may_predict.head()"
   ]
  },
  {
   "cell_type": "code",
   "execution_count": 62,
   "metadata": {},
   "outputs": [],
   "source": [
    "may_predict.to_csv(path_or_buf=r\"C:\\Users\\1\\DataAnalyticsProjects\\ТИЦ\\Prediction\\prediction.csv\", mode=\"a\")"
   ]
  },
  {
   "cell_type": "code",
   "execution_count": null,
   "metadata": {},
   "outputs": [],
   "source": []
  }
 ],
 "metadata": {
  "kernelspec": {
   "display_name": "Python 3",
   "language": "python",
   "name": "python3"
  },
  "language_info": {
   "codemirror_mode": {
    "name": "ipython",
    "version": 3
   },
   "file_extension": ".py",
   "mimetype": "text/x-python",
   "name": "python",
   "nbconvert_exporter": "python",
   "pygments_lexer": "ipython3",
   "version": "3.9.12"
  }
 },
 "nbformat": 4,
 "nbformat_minor": 2
}
